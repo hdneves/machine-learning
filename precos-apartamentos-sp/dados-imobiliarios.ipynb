{
 "cells": [
  {
   "cell_type": "code",
   "execution_count": 127,
   "id": "44d6a274-bc06-4ff9-b747-6daeec85e14f",
   "metadata": {},
   "outputs": [],
   "source": [
    "import pandas as pd\n",
    "import plotly.express as px\n",
    "import plotly.graph_objects as go\n",
    "import matplotlib.pyplot as plt\n",
    "import seaborn as sns\n",
    "import numpy as np\n"
   ]
  },
  {
   "cell_type": "markdown",
   "id": "c7d5a0d1-2ff6-4795-81ca-ffbc9f25d502",
   "metadata": {},
   "source": [
    "https://www.notion.so/Conceitos-fundamentais-de-Machine-Learning-e-Inteligencia-artificial-6ca2615ecd7540f79d95baea989708ad#eb57323182cb438982a348c2f0de4429"
   ]
  },
  {
   "cell_type": "code",
   "execution_count": 6,
   "id": "14ff8e15-9d53-476f-bd83-50b52f7343d8",
   "metadata": {},
   "outputs": [],
   "source": [
    "df = pd.read_csv(\"sao-paulo-properties-april-2019.csv\")"
   ]
  },
  {
   "cell_type": "code",
   "execution_count": 7,
   "id": "460a99cd-5874-4058-ba57-29e6e296880a",
   "metadata": {},
   "outputs": [],
   "source": [
    "df_rent = df[df[\"Negotiation Type\"]==\"rent\"]\n",
    "df_sale = [df[\"Negotiation Type\"]==\"sale\"]"
   ]
  },
  {
   "cell_type": "markdown",
   "id": "b4173846-92fc-4320-b9ab-f131366830d0",
   "metadata": {},
   "source": [
    "## 3. Visualização do conjunto de dados"
   ]
  },
  {
   "cell_type": "code",
   "execution_count": 43,
   "id": "7a8be89e-05db-4006-bb20-fee901ff48bc",
   "metadata": {},
   "outputs": [
    {
     "name": "stdout",
     "output_type": "stream",
     "text": [
      "<class 'pandas.core.frame.DataFrame'>\n",
      "Int64Index: 7228 entries, 0 to 11209\n",
      "Data columns (total 16 columns):\n",
      " #   Column            Non-Null Count  Dtype  \n",
      "---  ------            --------------  -----  \n",
      " 0   Price             7228 non-null   int64  \n",
      " 1   Condo             7228 non-null   int64  \n",
      " 2   Size              7228 non-null   int64  \n",
      " 3   Rooms             7228 non-null   int64  \n",
      " 4   Toilets           7228 non-null   int64  \n",
      " 5   Suites            7228 non-null   int64  \n",
      " 6   Parking           7228 non-null   int64  \n",
      " 7   Elevator          7228 non-null   int64  \n",
      " 8   Furnished         7228 non-null   int64  \n",
      " 9   Swimming Pool     7228 non-null   int64  \n",
      " 10  New               7228 non-null   int64  \n",
      " 11  District          7228 non-null   object \n",
      " 12  Negotiation Type  7228 non-null   object \n",
      " 13  Property Type     7228 non-null   object \n",
      " 14  Latitude          7228 non-null   float64\n",
      " 15  Longitude         7228 non-null   float64\n",
      "dtypes: float64(2), int64(11), object(3)\n",
      "memory usage: 960.0+ KB\n"
     ]
    }
   ],
   "source": [
    "df_rent.info()"
   ]
  },
  {
   "cell_type": "code",
   "execution_count": 41,
   "id": "6f0d7db7-71b6-456e-b3a0-ba281393c5d3",
   "metadata": {},
   "outputs": [
    {
     "data": {
      "text/html": [
       "<div>\n",
       "<style scoped>\n",
       "    .dataframe tbody tr th:only-of-type {\n",
       "        vertical-align: middle;\n",
       "    }\n",
       "\n",
       "    .dataframe tbody tr th {\n",
       "        vertical-align: top;\n",
       "    }\n",
       "\n",
       "    .dataframe thead th {\n",
       "        text-align: right;\n",
       "    }\n",
       "</style>\n",
       "<table border=\"1\" class=\"dataframe\">\n",
       "  <thead>\n",
       "    <tr style=\"text-align: right;\">\n",
       "      <th></th>\n",
       "      <th>Price</th>\n",
       "      <th>Condo</th>\n",
       "      <th>Size</th>\n",
       "      <th>Rooms</th>\n",
       "      <th>Toilets</th>\n",
       "      <th>Suites</th>\n",
       "      <th>Parking</th>\n",
       "      <th>Elevator</th>\n",
       "      <th>Furnished</th>\n",
       "      <th>Swimming Pool</th>\n",
       "      <th>New</th>\n",
       "      <th>Latitude</th>\n",
       "      <th>Longitude</th>\n",
       "    </tr>\n",
       "  </thead>\n",
       "  <tbody>\n",
       "    <tr>\n",
       "      <th>count</th>\n",
       "      <td>7228.000000</td>\n",
       "      <td>7228.000000</td>\n",
       "      <td>7228.000000</td>\n",
       "      <td>7228.000000</td>\n",
       "      <td>7228.000000</td>\n",
       "      <td>7228.000000</td>\n",
       "      <td>7228.000000</td>\n",
       "      <td>7228.000000</td>\n",
       "      <td>7228.000000</td>\n",
       "      <td>7228.000000</td>\n",
       "      <td>7228.000000</td>\n",
       "      <td>7228.000000</td>\n",
       "      <td>7228.000000</td>\n",
       "    </tr>\n",
       "    <tr>\n",
       "      <th>mean</th>\n",
       "      <td>3077.669065</td>\n",
       "      <td>825.194798</td>\n",
       "      <td>89.486165</td>\n",
       "      <td>2.304234</td>\n",
       "      <td>2.105562</td>\n",
       "      <td>1.024488</td>\n",
       "      <td>1.452269</td>\n",
       "      <td>0.299806</td>\n",
       "      <td>0.172939</td>\n",
       "      <td>0.487963</td>\n",
       "      <td>0.000830</td>\n",
       "      <td>-22.032278</td>\n",
       "      <td>-43.500873</td>\n",
       "    </tr>\n",
       "    <tr>\n",
       "      <th>std</th>\n",
       "      <td>3522.830284</td>\n",
       "      <td>835.621937</td>\n",
       "      <td>63.976416</td>\n",
       "      <td>0.829108</td>\n",
       "      <td>0.998162</td>\n",
       "      <td>0.884241</td>\n",
       "      <td>0.889535</td>\n",
       "      <td>0.458205</td>\n",
       "      <td>0.378220</td>\n",
       "      <td>0.499890</td>\n",
       "      <td>0.028802</td>\n",
       "      <td>5.962534</td>\n",
       "      <td>11.675070</td>\n",
       "    </tr>\n",
       "    <tr>\n",
       "      <th>min</th>\n",
       "      <td>480.000000</td>\n",
       "      <td>0.000000</td>\n",
       "      <td>30.000000</td>\n",
       "      <td>1.000000</td>\n",
       "      <td>1.000000</td>\n",
       "      <td>0.000000</td>\n",
       "      <td>0.000000</td>\n",
       "      <td>0.000000</td>\n",
       "      <td>0.000000</td>\n",
       "      <td>0.000000</td>\n",
       "      <td>0.000000</td>\n",
       "      <td>-46.749039</td>\n",
       "      <td>-58.364352</td>\n",
       "    </tr>\n",
       "    <tr>\n",
       "      <th>25%</th>\n",
       "      <td>1350.000000</td>\n",
       "      <td>395.750000</td>\n",
       "      <td>52.000000</td>\n",
       "      <td>2.000000</td>\n",
       "      <td>2.000000</td>\n",
       "      <td>1.000000</td>\n",
       "      <td>1.000000</td>\n",
       "      <td>0.000000</td>\n",
       "      <td>0.000000</td>\n",
       "      <td>0.000000</td>\n",
       "      <td>0.000000</td>\n",
       "      <td>-23.598066</td>\n",
       "      <td>-46.689788</td>\n",
       "    </tr>\n",
       "    <tr>\n",
       "      <th>50%</th>\n",
       "      <td>2000.000000</td>\n",
       "      <td>595.000000</td>\n",
       "      <td>67.000000</td>\n",
       "      <td>2.000000</td>\n",
       "      <td>2.000000</td>\n",
       "      <td>1.000000</td>\n",
       "      <td>1.000000</td>\n",
       "      <td>0.000000</td>\n",
       "      <td>0.000000</td>\n",
       "      <td>0.000000</td>\n",
       "      <td>0.000000</td>\n",
       "      <td>-23.555869</td>\n",
       "      <td>-46.644793</td>\n",
       "    </tr>\n",
       "    <tr>\n",
       "      <th>75%</th>\n",
       "      <td>3300.000000</td>\n",
       "      <td>990.000000</td>\n",
       "      <td>100.000000</td>\n",
       "      <td>3.000000</td>\n",
       "      <td>2.000000</td>\n",
       "      <td>1.000000</td>\n",
       "      <td>2.000000</td>\n",
       "      <td>1.000000</td>\n",
       "      <td>0.000000</td>\n",
       "      <td>1.000000</td>\n",
       "      <td>0.000000</td>\n",
       "      <td>-23.522756</td>\n",
       "      <td>-46.585110</td>\n",
       "    </tr>\n",
       "    <tr>\n",
       "      <th>max</th>\n",
       "      <td>50000.000000</td>\n",
       "      <td>9500.000000</td>\n",
       "      <td>880.000000</td>\n",
       "      <td>10.000000</td>\n",
       "      <td>8.000000</td>\n",
       "      <td>5.000000</td>\n",
       "      <td>9.000000</td>\n",
       "      <td>1.000000</td>\n",
       "      <td>1.000000</td>\n",
       "      <td>1.000000</td>\n",
       "      <td>1.000000</td>\n",
       "      <td>0.000000</td>\n",
       "      <td>0.000000</td>\n",
       "    </tr>\n",
       "  </tbody>\n",
       "</table>\n",
       "</div>"
      ],
      "text/plain": [
       "              Price        Condo         Size        Rooms      Toilets  \\\n",
       "count   7228.000000  7228.000000  7228.000000  7228.000000  7228.000000   \n",
       "mean    3077.669065   825.194798    89.486165     2.304234     2.105562   \n",
       "std     3522.830284   835.621937    63.976416     0.829108     0.998162   \n",
       "min      480.000000     0.000000    30.000000     1.000000     1.000000   \n",
       "25%     1350.000000   395.750000    52.000000     2.000000     2.000000   \n",
       "50%     2000.000000   595.000000    67.000000     2.000000     2.000000   \n",
       "75%     3300.000000   990.000000   100.000000     3.000000     2.000000   \n",
       "max    50000.000000  9500.000000   880.000000    10.000000     8.000000   \n",
       "\n",
       "            Suites      Parking     Elevator    Furnished  Swimming Pool  \\\n",
       "count  7228.000000  7228.000000  7228.000000  7228.000000    7228.000000   \n",
       "mean      1.024488     1.452269     0.299806     0.172939       0.487963   \n",
       "std       0.884241     0.889535     0.458205     0.378220       0.499890   \n",
       "min       0.000000     0.000000     0.000000     0.000000       0.000000   \n",
       "25%       1.000000     1.000000     0.000000     0.000000       0.000000   \n",
       "50%       1.000000     1.000000     0.000000     0.000000       0.000000   \n",
       "75%       1.000000     2.000000     1.000000     0.000000       1.000000   \n",
       "max       5.000000     9.000000     1.000000     1.000000       1.000000   \n",
       "\n",
       "               New     Latitude    Longitude  \n",
       "count  7228.000000  7228.000000  7228.000000  \n",
       "mean      0.000830   -22.032278   -43.500873  \n",
       "std       0.028802     5.962534    11.675070  \n",
       "min       0.000000   -46.749039   -58.364352  \n",
       "25%       0.000000   -23.598066   -46.689788  \n",
       "50%       0.000000   -23.555869   -46.644793  \n",
       "75%       0.000000   -23.522756   -46.585110  \n",
       "max       1.000000     0.000000     0.000000  "
      ]
     },
     "execution_count": 41,
     "metadata": {},
     "output_type": "execute_result"
    }
   ],
   "source": [
    "df_rent.describe()"
   ]
  },
  {
   "cell_type": "code",
   "execution_count": 31,
   "id": "31a1b04f-f88a-4938-a037-af25d3691ad2",
   "metadata": {},
   "outputs": [
    {
     "data": {
      "text/plain": [
       "array([[<AxesSubplot:title={'center':'Price'}>,\n",
       "        <AxesSubplot:title={'center':'Condo'}>,\n",
       "        <AxesSubplot:title={'center':'Size'}>,\n",
       "        <AxesSubplot:title={'center':'Rooms'}>],\n",
       "       [<AxesSubplot:title={'center':'Toilets'}>,\n",
       "        <AxesSubplot:title={'center':'Suites'}>,\n",
       "        <AxesSubplot:title={'center':'Parking'}>,\n",
       "        <AxesSubplot:title={'center':'Elevator'}>],\n",
       "       [<AxesSubplot:title={'center':'Furnished'}>,\n",
       "        <AxesSubplot:title={'center':'Swimming Pool'}>,\n",
       "        <AxesSubplot:title={'center':'New'}>,\n",
       "        <AxesSubplot:title={'center':'Latitude'}>],\n",
       "       [<AxesSubplot:title={'center':'Longitude'}>, <AxesSubplot:>,\n",
       "        <AxesSubplot:>, <AxesSubplot:>]], dtype=object)"
      ]
     },
     "execution_count": 31,
     "metadata": {},
     "output_type": "execute_result"
    },
    {
     "data": {
      "image/png": "[encoded data removed]",
      "text/plain": [
       "<Figure size 2160x1080 with 16 Axes>"
      ]
     },
     "metadata": {
      "needs_background": "light"
     },
     "output_type": "display_data"
    }
   ],
   "source": [
    "df_rent.hist(bins=30, figsize=(30, 15))"
   ]
  },
  {
   "cell_type": "code",
   "execution_count": 36,
   "id": "d4eb3156-259d-41cb-a92d-039ee5933f54",
   "metadata": {},
   "outputs": [
    {
     "data": {
      "text/plain": [
       "apartment    7228\n",
       "Name: Property Type, dtype: int64"
      ]
     },
     "execution_count": 36,
     "metadata": {},
     "output_type": "execute_result"
    }
   ],
   "source": [
    "df_rent[\"Property Type\"].value_counts()"
   ]
  },
  {
   "cell_type": "code",
   "execution_count": 42,
   "id": "8ecea05c-f019-4b10-9937-b73ae0067204",
   "metadata": {},
   "outputs": [
    {
     "data": {
      "text/plain": [
       "Mooca/São Paulo              178\n",
       "Moema/São Paulo              163\n",
       "Vila Mariana/São Paulo       161\n",
       "Morumbi/São Paulo            159\n",
       "Cambuci/São Paulo            153\n",
       "                            ... \n",
       "Lajeado/São Paulo              8\n",
       "Parque do Carmo/São Paulo      6\n",
       "Guaianazes/São Paulo           6\n",
       "Jardim São Luis/São Paulo      3\n",
       "Grajaú/São Paulo               2\n",
       "Name: District, Length: 94, dtype: int64"
      ]
     },
     "execution_count": 42,
     "metadata": {},
     "output_type": "execute_result"
    }
   ],
   "source": [
    "df_rent[\"District\"].value_counts()"
   ]
  },
  {
   "cell_type": "code",
   "execution_count": 45,
   "id": "44037609-28a6-44c1-af30-019a012edaaf",
   "metadata": {},
   "outputs": [
    {
     "data": {
      "text/plain": [
       "Price            1.000000\n",
       "Size             0.731795\n",
       "Condo            0.700361\n",
       "Parking          0.640743\n",
       "Suites           0.588329\n",
       "Toilets          0.583488\n",
       "Rooms            0.390951\n",
       "Swimming Pool    0.206884\n",
       "Furnished        0.171859\n",
       "Elevator         0.031860\n",
       "New             -0.008477\n",
       "Latitude        -0.036935\n",
       "Longitude       -0.038362\n",
       "Name: Price, dtype: float64"
      ]
     },
     "execution_count": 45,
     "metadata": {},
     "output_type": "execute_result"
    }
   ],
   "source": [
    "df_rent.corr()[\"Price\"].sort_values(ascending=False)"
   ]
  },
  {
   "cell_type": "markdown",
   "id": "ba30f869-3226-4f7f-b42d-772b6b1236ef",
   "metadata": {},
   "source": [
    "## 4. Preparação de dados para modelos de ML"
   ]
  },
  {
   "cell_type": "markdown",
   "id": "adfab24d-64b7-4773-ba10-7266a3461e22",
   "metadata": {},
   "source": [
    "### Limpeza de dados desnecessários"
   ]
  },
  {
   "cell_type": "code",
   "execution_count": 97,
   "id": "dbebd80b-8e9b-4957-8e00-5924deeb2550",
   "metadata": {},
   "outputs": [],
   "source": [
    "df_cleaned = df_rent.drop([\"New\", \"Property Type\", \"Negotiation Type\"], axis=1)"
   ]
  },
  {
   "cell_type": "code",
   "execution_count": 98,
   "id": "c70b1126-7df7-4813-b838-1b490674db9d",
   "metadata": {},
   "outputs": [
    {
     "data": {
      "text/html": [
       "<div>\n",
       "<style scoped>\n",
       "    .dataframe tbody tr th:only-of-type {\n",
       "        vertical-align: middle;\n",
       "    }\n",
       "\n",
       "    .dataframe tbody tr th {\n",
       "        vertical-align: top;\n",
       "    }\n",
       "\n",
       "    .dataframe thead th {\n",
       "        text-align: right;\n",
       "    }\n",
       "</style>\n",
       "<table border=\"1\" class=\"dataframe\">\n",
       "  <thead>\n",
       "    <tr style=\"text-align: right;\">\n",
       "      <th></th>\n",
       "      <th>Price</th>\n",
       "      <th>Condo</th>\n",
       "      <th>Size</th>\n",
       "      <th>Rooms</th>\n",
       "      <th>Toilets</th>\n",
       "      <th>Suites</th>\n",
       "      <th>Parking</th>\n",
       "      <th>Elevator</th>\n",
       "      <th>Furnished</th>\n",
       "      <th>Swimming Pool</th>\n",
       "      <th>District</th>\n",
       "      <th>Latitude</th>\n",
       "      <th>Longitude</th>\n",
       "    </tr>\n",
       "  </thead>\n",
       "  <tbody>\n",
       "    <tr>\n",
       "      <th>0</th>\n",
       "      <td>930</td>\n",
       "      <td>220</td>\n",
       "      <td>47</td>\n",
       "      <td>2</td>\n",
       "      <td>2</td>\n",
       "      <td>1</td>\n",
       "      <td>1</td>\n",
       "      <td>0</td>\n",
       "      <td>0</td>\n",
       "      <td>0</td>\n",
       "      <td>Artur Alvim/São Paulo</td>\n",
       "      <td>-23.543138</td>\n",
       "      <td>-46.479486</td>\n",
       "    </tr>\n",
       "    <tr>\n",
       "      <th>1</th>\n",
       "      <td>1000</td>\n",
       "      <td>148</td>\n",
       "      <td>45</td>\n",
       "      <td>2</td>\n",
       "      <td>2</td>\n",
       "      <td>1</td>\n",
       "      <td>1</td>\n",
       "      <td>0</td>\n",
       "      <td>0</td>\n",
       "      <td>0</td>\n",
       "      <td>Artur Alvim/São Paulo</td>\n",
       "      <td>-23.550239</td>\n",
       "      <td>-46.480718</td>\n",
       "    </tr>\n",
       "    <tr>\n",
       "      <th>2</th>\n",
       "      <td>1000</td>\n",
       "      <td>100</td>\n",
       "      <td>48</td>\n",
       "      <td>2</td>\n",
       "      <td>2</td>\n",
       "      <td>1</td>\n",
       "      <td>1</td>\n",
       "      <td>0</td>\n",
       "      <td>0</td>\n",
       "      <td>0</td>\n",
       "      <td>Artur Alvim/São Paulo</td>\n",
       "      <td>-23.542818</td>\n",
       "      <td>-46.485665</td>\n",
       "    </tr>\n",
       "    <tr>\n",
       "      <th>3</th>\n",
       "      <td>1000</td>\n",
       "      <td>200</td>\n",
       "      <td>48</td>\n",
       "      <td>2</td>\n",
       "      <td>2</td>\n",
       "      <td>1</td>\n",
       "      <td>1</td>\n",
       "      <td>0</td>\n",
       "      <td>0</td>\n",
       "      <td>0</td>\n",
       "      <td>Artur Alvim/São Paulo</td>\n",
       "      <td>-23.547171</td>\n",
       "      <td>-46.483014</td>\n",
       "    </tr>\n",
       "    <tr>\n",
       "      <th>4</th>\n",
       "      <td>1300</td>\n",
       "      <td>410</td>\n",
       "      <td>55</td>\n",
       "      <td>2</td>\n",
       "      <td>2</td>\n",
       "      <td>1</td>\n",
       "      <td>1</td>\n",
       "      <td>1</td>\n",
       "      <td>0</td>\n",
       "      <td>0</td>\n",
       "      <td>Artur Alvim/São Paulo</td>\n",
       "      <td>-23.525025</td>\n",
       "      <td>-46.482436</td>\n",
       "    </tr>\n",
       "  </tbody>\n",
       "</table>\n",
       "</div>"
      ],
      "text/plain": [
       "   Price  Condo  Size  Rooms  Toilets  Suites  Parking  Elevator  Furnished  \\\n",
       "0    930    220    47      2        2       1        1         0          0   \n",
       "1   1000    148    45      2        2       1        1         0          0   \n",
       "2   1000    100    48      2        2       1        1         0          0   \n",
       "3   1000    200    48      2        2       1        1         0          0   \n",
       "4   1300    410    55      2        2       1        1         1          0   \n",
       "\n",
       "   Swimming Pool               District   Latitude  Longitude  \n",
       "0              0  Artur Alvim/São Paulo -23.543138 -46.479486  \n",
       "1              0  Artur Alvim/São Paulo -23.550239 -46.480718  \n",
       "2              0  Artur Alvim/São Paulo -23.542818 -46.485665  \n",
       "3              0  Artur Alvim/São Paulo -23.547171 -46.483014  \n",
       "4              0  Artur Alvim/São Paulo -23.525025 -46.482436  "
      ]
     },
     "execution_count": 98,
     "metadata": {},
     "output_type": "execute_result"
    }
   ],
   "source": [
    "df_cleaned.head()"
   ]
  },
  {
   "cell_type": "markdown",
   "id": "394cd76b-38cc-4e4f-a291-f89de1dfab55",
   "metadata": {},
   "source": [
    "### Tratamento de dados categóricos"
   ]
  },
  {
   "cell_type": "code",
   "execution_count": 99,
   "id": "a4ad537d-5e07-4060-b52b-9429a21cd06c",
   "metadata": {},
   "outputs": [
    {
     "data": {
      "text/plain": [
       "array([[3.],\n",
       "       [3.],\n",
       "       [3.],\n",
       "       ...,\n",
       "       [9.],\n",
       "       [9.],\n",
       "       [9.]])"
      ]
     },
     "execution_count": 99,
     "metadata": {},
     "output_type": "execute_result"
    }
   ],
   "source": [
    "from sklearn.preprocessing import OrdinalEncoder\n",
    "ordinal_encoder = OrdinalEncoder()\n",
    "\n",
    "district_encoded = ordinal_encoder.fit_transform(df_cleaned[[\"District\"]])\n",
    "district_encoded"
   ]
  },
  {
   "cell_type": "code",
   "execution_count": 100,
   "id": "f23b0a6f-9028-43f9-9886-91a63d3194c3",
   "metadata": {},
   "outputs": [
    {
     "data": {
      "text/plain": [
       "<7228x94 sparse matrix of type '<class 'numpy.float64'>'\n",
       "\twith 7228 stored elements in Compressed Sparse Row format>"
      ]
     },
     "execution_count": 100,
     "metadata": {},
     "output_type": "execute_result"
    }
   ],
   "source": [
    "from sklearn.preprocessing import OneHotEncoder\n",
    "cat_encoder = OneHotEncoder()\n",
    "\n",
    "housing_cat_1hot = cat_encoder.fit_transform(df_cleaned[[\"District\"]])\n",
    "housing_cat_1hot"
   ]
  },
  {
   "cell_type": "code",
   "execution_count": 101,
   "id": "bdd5f7e4-2c23-4af0-ae8a-6cb889f08301",
   "metadata": {},
   "outputs": [
    {
     "data": {
      "text/plain": [
       "array([[0., 0., 0., ..., 0., 0., 0.],\n",
       "       [0., 0., 0., ..., 0., 0., 0.],\n",
       "       [0., 0., 0., ..., 0., 0., 0.],\n",
       "       ...,\n",
       "       [0., 0., 0., ..., 0., 0., 0.],\n",
       "       [0., 0., 0., ..., 0., 0., 0.],\n",
       "       [0., 0., 0., ..., 0., 0., 0.]])"
      ]
     },
     "execution_count": 101,
     "metadata": {},
     "output_type": "execute_result"
    }
   ],
   "source": [
    "housing_cat_1hot.toarray()"
   ]
  },
  {
   "cell_type": "code",
   "execution_count": 102,
   "id": "8c253867-aa88-4f37-8054-8564a6f7239a",
   "metadata": {},
   "outputs": [
    {
     "data": {
      "text/plain": [
       "(7228, 94)"
      ]
     },
     "execution_count": 102,
     "metadata": {},
     "output_type": "execute_result"
    }
   ],
   "source": [
    "housing_cat_1hot.toarray().shape"
   ]
  },
  {
   "cell_type": "code",
   "execution_count": 103,
   "id": "47761b79-1b47-4419-8e0f-b9b97c6e01df",
   "metadata": {
    "scrolled": true,
    "tags": []
   },
   "outputs": [
    {
     "data": {
      "text/plain": [
       "[array(['Alto de Pinheiros/São Paulo', 'Anhanguera/São Paulo',\n",
       "        'Aricanduva/São Paulo', 'Artur Alvim/São Paulo',\n",
       "        'Barra Funda/São Paulo', 'Bela Vista/São Paulo', 'Belém/São Paulo',\n",
       "        'Bom Retiro/São Paulo', 'Brasilândia/São Paulo',\n",
       "        'Brooklin/São Paulo', 'Brás/São Paulo', 'Butantã/São Paulo',\n",
       "        'Cachoeirinha/São Paulo', 'Cambuci/São Paulo',\n",
       "        'Campo Belo/São Paulo', 'Campo Grande/São Paulo',\n",
       "        'Campo Limpo/São Paulo', 'Cangaíba/São Paulo',\n",
       "        'Capão Redondo/São Paulo', 'Carrão/São Paulo',\n",
       "        'Casa Verde/São Paulo', 'Cidade Ademar/São Paulo',\n",
       "        'Cidade Dutra/São Paulo', 'Cidade Líder/São Paulo',\n",
       "        'Cidade Tiradentes/São Paulo', 'Consolação/São Paulo',\n",
       "        'Cursino/São Paulo', 'Ermelino Matarazzo/São Paulo',\n",
       "        'Freguesia do Ó/São Paulo', 'Grajaú/São Paulo',\n",
       "        'Guaianazes/São Paulo', 'Iguatemi/São Paulo', 'Ipiranga/São Paulo',\n",
       "        'Itaim Bibi/São Paulo', 'Itaim Paulista/São Paulo',\n",
       "        'Itaquera/São Paulo', 'Jabaquara/São Paulo', 'Jaguaré/São Paulo',\n",
       "        'Jaraguá/São Paulo', 'Jardim Helena/São Paulo',\n",
       "        'Jardim Paulista/São Paulo', 'Jardim São Luis/São Paulo',\n",
       "        'Jardim Ângela/São Paulo', 'Jaçanã/São Paulo',\n",
       "        'José Bonifácio/São Paulo', 'Lajeado/São Paulo', 'Lapa/São Paulo',\n",
       "        'Liberdade/São Paulo', 'Limão/São Paulo', 'Mandaqui/São Paulo',\n",
       "        'Medeiros/São Paulo', 'Moema/São Paulo', 'Mooca/São Paulo',\n",
       "        'Morumbi/São Paulo', 'Pari/São Paulo', 'Parque do Carmo/São Paulo',\n",
       "        'Pedreira/São Paulo', 'Penha/São Paulo', 'Perdizes/São Paulo',\n",
       "        'Pinheiros/São Paulo', 'Pirituba/São Paulo',\n",
       "        'Ponte Rasa/São Paulo', 'Raposo Tavares/São Paulo',\n",
       "        'República/São Paulo', 'Rio Pequeno/São Paulo', 'Sacomã/São Paulo',\n",
       "        'Santa Cecília/São Paulo', 'Santana/São Paulo',\n",
       "        'Santo Amaro/São Paulo', 'Sapopemba/São Paulo', 'Saúde/São Paulo',\n",
       "        'Socorro/São Paulo', 'São Lucas/São Paulo', 'São Mateus/São Paulo',\n",
       "        'São Miguel/São Paulo', 'São Rafael/São Paulo', 'Sé/São Paulo',\n",
       "        'Tatuapé/São Paulo', 'Tremembé/São Paulo', 'Tucuruvi/São Paulo',\n",
       "        'Vila Andrade/São Paulo', 'Vila Curuçá/São Paulo',\n",
       "        'Vila Formosa/São Paulo', 'Vila Guilherme/São Paulo',\n",
       "        'Vila Jacuí/São Paulo', 'Vila Leopoldina/São Paulo',\n",
       "        'Vila Madalena/São Paulo', 'Vila Maria/São Paulo',\n",
       "        'Vila Mariana/São Paulo', 'Vila Matilde/São Paulo',\n",
       "        'Vila Olimpia/São Paulo', 'Vila Prudente/São Paulo',\n",
       "        'Vila Sônia/São Paulo', 'Água Rasa/São Paulo'], dtype=object)]"
      ]
     },
     "execution_count": 103,
     "metadata": {},
     "output_type": "execute_result"
    }
   ],
   "source": [
    "cat_encoder.categories_"
   ]
  },
  {
   "cell_type": "code",
   "execution_count": 104,
   "id": "087c8deb-17ee-4462-8b9b-925c89a5d250",
   "metadata": {},
   "outputs": [
    {
     "data": {
      "text/html": [
       "<div>\n",
       "<style scoped>\n",
       "    .dataframe tbody tr th:only-of-type {\n",
       "        vertical-align: middle;\n",
       "    }\n",
       "\n",
       "    .dataframe tbody tr th {\n",
       "        vertical-align: top;\n",
       "    }\n",
       "\n",
       "    .dataframe thead th {\n",
       "        text-align: right;\n",
       "    }\n",
       "</style>\n",
       "<table border=\"1\" class=\"dataframe\">\n",
       "  <thead>\n",
       "    <tr style=\"text-align: right;\">\n",
       "      <th></th>\n",
       "      <th>Price</th>\n",
       "      <th>Condo</th>\n",
       "      <th>Size</th>\n",
       "      <th>Rooms</th>\n",
       "      <th>Toilets</th>\n",
       "      <th>Suites</th>\n",
       "      <th>Parking</th>\n",
       "      <th>Elevator</th>\n",
       "      <th>Furnished</th>\n",
       "      <th>Swimming Pool</th>\n",
       "      <th>...</th>\n",
       "      <th>Vila Jacuí/São Paulo</th>\n",
       "      <th>Vila Leopoldina/São Paulo</th>\n",
       "      <th>Vila Madalena/São Paulo</th>\n",
       "      <th>Vila Maria/São Paulo</th>\n",
       "      <th>Vila Mariana/São Paulo</th>\n",
       "      <th>Vila Matilde/São Paulo</th>\n",
       "      <th>Vila Olimpia/São Paulo</th>\n",
       "      <th>Vila Prudente/São Paulo</th>\n",
       "      <th>Vila Sônia/São Paulo</th>\n",
       "      <th>Água Rasa/São Paulo</th>\n",
       "    </tr>\n",
       "  </thead>\n",
       "  <tbody>\n",
       "    <tr>\n",
       "      <th>0</th>\n",
       "      <td>930</td>\n",
       "      <td>220</td>\n",
       "      <td>47</td>\n",
       "      <td>2</td>\n",
       "      <td>2</td>\n",
       "      <td>1</td>\n",
       "      <td>1</td>\n",
       "      <td>0</td>\n",
       "      <td>0</td>\n",
       "      <td>0</td>\n",
       "      <td>...</td>\n",
       "      <td>0</td>\n",
       "      <td>0</td>\n",
       "      <td>0</td>\n",
       "      <td>0</td>\n",
       "      <td>0</td>\n",
       "      <td>0</td>\n",
       "      <td>0</td>\n",
       "      <td>0</td>\n",
       "      <td>0</td>\n",
       "      <td>0</td>\n",
       "    </tr>\n",
       "    <tr>\n",
       "      <th>1</th>\n",
       "      <td>1000</td>\n",
       "      <td>148</td>\n",
       "      <td>45</td>\n",
       "      <td>2</td>\n",
       "      <td>2</td>\n",
       "      <td>1</td>\n",
       "      <td>1</td>\n",
       "      <td>0</td>\n",
       "      <td>0</td>\n",
       "      <td>0</td>\n",
       "      <td>...</td>\n",
       "      <td>0</td>\n",
       "      <td>0</td>\n",
       "      <td>0</td>\n",
       "      <td>0</td>\n",
       "      <td>0</td>\n",
       "      <td>0</td>\n",
       "      <td>0</td>\n",
       "      <td>0</td>\n",
       "      <td>0</td>\n",
       "      <td>0</td>\n",
       "    </tr>\n",
       "    <tr>\n",
       "      <th>2</th>\n",
       "      <td>1000</td>\n",
       "      <td>100</td>\n",
       "      <td>48</td>\n",
       "      <td>2</td>\n",
       "      <td>2</td>\n",
       "      <td>1</td>\n",
       "      <td>1</td>\n",
       "      <td>0</td>\n",
       "      <td>0</td>\n",
       "      <td>0</td>\n",
       "      <td>...</td>\n",
       "      <td>0</td>\n",
       "      <td>0</td>\n",
       "      <td>0</td>\n",
       "      <td>0</td>\n",
       "      <td>0</td>\n",
       "      <td>0</td>\n",
       "      <td>0</td>\n",
       "      <td>0</td>\n",
       "      <td>0</td>\n",
       "      <td>0</td>\n",
       "    </tr>\n",
       "    <tr>\n",
       "      <th>3</th>\n",
       "      <td>1000</td>\n",
       "      <td>200</td>\n",
       "      <td>48</td>\n",
       "      <td>2</td>\n",
       "      <td>2</td>\n",
       "      <td>1</td>\n",
       "      <td>1</td>\n",
       "      <td>0</td>\n",
       "      <td>0</td>\n",
       "      <td>0</td>\n",
       "      <td>...</td>\n",
       "      <td>0</td>\n",
       "      <td>0</td>\n",
       "      <td>0</td>\n",
       "      <td>0</td>\n",
       "      <td>0</td>\n",
       "      <td>0</td>\n",
       "      <td>0</td>\n",
       "      <td>0</td>\n",
       "      <td>0</td>\n",
       "      <td>0</td>\n",
       "    </tr>\n",
       "    <tr>\n",
       "      <th>4</th>\n",
       "      <td>1300</td>\n",
       "      <td>410</td>\n",
       "      <td>55</td>\n",
       "      <td>2</td>\n",
       "      <td>2</td>\n",
       "      <td>1</td>\n",
       "      <td>1</td>\n",
       "      <td>1</td>\n",
       "      <td>0</td>\n",
       "      <td>0</td>\n",
       "      <td>...</td>\n",
       "      <td>0</td>\n",
       "      <td>0</td>\n",
       "      <td>0</td>\n",
       "      <td>0</td>\n",
       "      <td>0</td>\n",
       "      <td>0</td>\n",
       "      <td>0</td>\n",
       "      <td>0</td>\n",
       "      <td>0</td>\n",
       "      <td>0</td>\n",
       "    </tr>\n",
       "    <tr>\n",
       "      <th>...</th>\n",
       "      <td>...</td>\n",
       "      <td>...</td>\n",
       "      <td>...</td>\n",
       "      <td>...</td>\n",
       "      <td>...</td>\n",
       "      <td>...</td>\n",
       "      <td>...</td>\n",
       "      <td>...</td>\n",
       "      <td>...</td>\n",
       "      <td>...</td>\n",
       "      <td>...</td>\n",
       "      <td>...</td>\n",
       "      <td>...</td>\n",
       "      <td>...</td>\n",
       "      <td>...</td>\n",
       "      <td>...</td>\n",
       "      <td>...</td>\n",
       "      <td>...</td>\n",
       "      <td>...</td>\n",
       "      <td>...</td>\n",
       "      <td>...</td>\n",
       "    </tr>\n",
       "    <tr>\n",
       "      <th>11205</th>\n",
       "      <td>3700</td>\n",
       "      <td>595</td>\n",
       "      <td>73</td>\n",
       "      <td>1</td>\n",
       "      <td>2</td>\n",
       "      <td>1</td>\n",
       "      <td>1</td>\n",
       "      <td>0</td>\n",
       "      <td>0</td>\n",
       "      <td>1</td>\n",
       "      <td>...</td>\n",
       "      <td>0</td>\n",
       "      <td>0</td>\n",
       "      <td>0</td>\n",
       "      <td>0</td>\n",
       "      <td>0</td>\n",
       "      <td>0</td>\n",
       "      <td>0</td>\n",
       "      <td>0</td>\n",
       "      <td>0</td>\n",
       "      <td>0</td>\n",
       "    </tr>\n",
       "    <tr>\n",
       "      <th>11206</th>\n",
       "      <td>21000</td>\n",
       "      <td>3000</td>\n",
       "      <td>208</td>\n",
       "      <td>4</td>\n",
       "      <td>4</td>\n",
       "      <td>3</td>\n",
       "      <td>3</td>\n",
       "      <td>1</td>\n",
       "      <td>1</td>\n",
       "      <td>1</td>\n",
       "      <td>...</td>\n",
       "      <td>0</td>\n",
       "      <td>0</td>\n",
       "      <td>0</td>\n",
       "      <td>0</td>\n",
       "      <td>0</td>\n",
       "      <td>0</td>\n",
       "      <td>0</td>\n",
       "      <td>0</td>\n",
       "      <td>0</td>\n",
       "      <td>0</td>\n",
       "    </tr>\n",
       "    <tr>\n",
       "      <th>11207</th>\n",
       "      <td>3800</td>\n",
       "      <td>710</td>\n",
       "      <td>55</td>\n",
       "      <td>1</td>\n",
       "      <td>1</td>\n",
       "      <td>0</td>\n",
       "      <td>1</td>\n",
       "      <td>0</td>\n",
       "      <td>1</td>\n",
       "      <td>1</td>\n",
       "      <td>...</td>\n",
       "      <td>0</td>\n",
       "      <td>0</td>\n",
       "      <td>0</td>\n",
       "      <td>0</td>\n",
       "      <td>0</td>\n",
       "      <td>0</td>\n",
       "      <td>0</td>\n",
       "      <td>0</td>\n",
       "      <td>0</td>\n",
       "      <td>0</td>\n",
       "    </tr>\n",
       "    <tr>\n",
       "      <th>11208</th>\n",
       "      <td>5000</td>\n",
       "      <td>2354</td>\n",
       "      <td>205</td>\n",
       "      <td>3</td>\n",
       "      <td>2</td>\n",
       "      <td>1</td>\n",
       "      <td>2</td>\n",
       "      <td>1</td>\n",
       "      <td>0</td>\n",
       "      <td>0</td>\n",
       "      <td>...</td>\n",
       "      <td>0</td>\n",
       "      <td>0</td>\n",
       "      <td>0</td>\n",
       "      <td>0</td>\n",
       "      <td>0</td>\n",
       "      <td>0</td>\n",
       "      <td>0</td>\n",
       "      <td>0</td>\n",
       "      <td>0</td>\n",
       "      <td>0</td>\n",
       "    </tr>\n",
       "    <tr>\n",
       "      <th>11209</th>\n",
       "      <td>15600</td>\n",
       "      <td>2300</td>\n",
       "      <td>162</td>\n",
       "      <td>3</td>\n",
       "      <td>4</td>\n",
       "      <td>3</td>\n",
       "      <td>3</td>\n",
       "      <td>0</td>\n",
       "      <td>0</td>\n",
       "      <td>1</td>\n",
       "      <td>...</td>\n",
       "      <td>0</td>\n",
       "      <td>0</td>\n",
       "      <td>0</td>\n",
       "      <td>0</td>\n",
       "      <td>0</td>\n",
       "      <td>0</td>\n",
       "      <td>0</td>\n",
       "      <td>0</td>\n",
       "      <td>0</td>\n",
       "      <td>0</td>\n",
       "    </tr>\n",
       "  </tbody>\n",
       "</table>\n",
       "<p>7228 rows × 106 columns</p>\n",
       "</div>"
      ],
      "text/plain": [
       "       Price  Condo  Size  Rooms  Toilets  Suites  Parking  Elevator  \\\n",
       "0        930    220    47      2        2       1        1         0   \n",
       "1       1000    148    45      2        2       1        1         0   \n",
       "2       1000    100    48      2        2       1        1         0   \n",
       "3       1000    200    48      2        2       1        1         0   \n",
       "4       1300    410    55      2        2       1        1         1   \n",
       "...      ...    ...   ...    ...      ...     ...      ...       ...   \n",
       "11205   3700    595    73      1        2       1        1         0   \n",
       "11206  21000   3000   208      4        4       3        3         1   \n",
       "11207   3800    710    55      1        1       0        1         0   \n",
       "11208   5000   2354   205      3        2       1        2         1   \n",
       "11209  15600   2300   162      3        4       3        3         0   \n",
       "\n",
       "       Furnished  Swimming Pool  ...  Vila Jacuí/São Paulo  \\\n",
       "0              0              0  ...                     0   \n",
       "1              0              0  ...                     0   \n",
       "2              0              0  ...                     0   \n",
       "3              0              0  ...                     0   \n",
       "4              0              0  ...                     0   \n",
       "...          ...            ...  ...                   ...   \n",
       "11205          0              1  ...                     0   \n",
       "11206          1              1  ...                     0   \n",
       "11207          1              1  ...                     0   \n",
       "11208          0              0  ...                     0   \n",
       "11209          0              1  ...                     0   \n",
       "\n",
       "       Vila Leopoldina/São Paulo  Vila Madalena/São Paulo  \\\n",
       "0                              0                        0   \n",
       "1                              0                        0   \n",
       "2                              0                        0   \n",
       "3                              0                        0   \n",
       "4                              0                        0   \n",
       "...                          ...                      ...   \n",
       "11205                          0                        0   \n",
       "11206                          0                        0   \n",
       "11207                          0                        0   \n",
       "11208                          0                        0   \n",
       "11209                          0                        0   \n",
       "\n",
       "       Vila Maria/São Paulo  Vila Mariana/São Paulo  Vila Matilde/São Paulo  \\\n",
       "0                         0                       0                       0   \n",
       "1                         0                       0                       0   \n",
       "2                         0                       0                       0   \n",
       "3                         0                       0                       0   \n",
       "4                         0                       0                       0   \n",
       "...                     ...                     ...                     ...   \n",
       "11205                     0                       0                       0   \n",
       "11206                     0                       0                       0   \n",
       "11207                     0                       0                       0   \n",
       "11208                     0                       0                       0   \n",
       "11209                     0                       0                       0   \n",
       "\n",
       "       Vila Olimpia/São Paulo  Vila Prudente/São Paulo  Vila Sônia/São Paulo  \\\n",
       "0                           0                        0                     0   \n",
       "1                           0                        0                     0   \n",
       "2                           0                        0                     0   \n",
       "3                           0                        0                     0   \n",
       "4                           0                        0                     0   \n",
       "...                       ...                      ...                   ...   \n",
       "11205                       0                        0                     0   \n",
       "11206                       0                        0                     0   \n",
       "11207                       0                        0                     0   \n",
       "11208                       0                        0                     0   \n",
       "11209                       0                        0                     0   \n",
       "\n",
       "       Água Rasa/São Paulo  \n",
       "0                        0  \n",
       "1                        0  \n",
       "2                        0  \n",
       "3                        0  \n",
       "4                        0  \n",
       "...                    ...  \n",
       "11205                    0  \n",
       "11206                    0  \n",
       "11207                    0  \n",
       "11208                    0  \n",
       "11209                    0  \n",
       "\n",
       "[7228 rows x 106 columns]"
      ]
     },
     "execution_count": 104,
     "metadata": {},
     "output_type": "execute_result"
    }
   ],
   "source": [
    "one_hot = pd.get_dummies(df_cleaned[\"District\"])\n",
    "\n",
    "df = df_cleaned.drop('District',axis = 1)\n",
    "df = df.join(one_hot)\n",
    "df"
   ]
  },
  {
   "cell_type": "markdown",
   "id": "de0754aa-466d-47fc-adf6-8335ef89f9b6",
   "metadata": {},
   "source": [
    "## 5. Selecione e treino múltiplos modelos"
   ]
  },
  {
   "cell_type": "code",
   "execution_count": 118,
   "id": "0757a0eb-40ee-4dbf-99b9-4524764daf3c",
   "metadata": {},
   "outputs": [],
   "source": [
    "from sklearn.model_selection import train_test_split"
   ]
  },
  {
   "cell_type": "code",
   "execution_count": 106,
   "id": "a16377f1-136b-447f-8771-6453002e22db",
   "metadata": {},
   "outputs": [],
   "source": [
    "Y = df[\"Price\"]\n",
    "X = df.loc[:, df.columns != \"Price\"]"
   ]
  },
  {
   "cell_type": "code",
   "execution_count": 107,
   "id": "00617601-109b-436d-80aa-3ccbf0544b40",
   "metadata": {},
   "outputs": [
    {
     "data": {
      "text/html": [
       "<div>\n",
       "<style scoped>\n",
       "    .dataframe tbody tr th:only-of-type {\n",
       "        vertical-align: middle;\n",
       "    }\n",
       "\n",
       "    .dataframe tbody tr th {\n",
       "        vertical-align: top;\n",
       "    }\n",
       "\n",
       "    .dataframe thead th {\n",
       "        text-align: right;\n",
       "    }\n",
       "</style>\n",
       "<table border=\"1\" class=\"dataframe\">\n",
       "  <thead>\n",
       "    <tr style=\"text-align: right;\">\n",
       "      <th></th>\n",
       "      <th>Condo</th>\n",
       "      <th>Size</th>\n",
       "      <th>Rooms</th>\n",
       "      <th>Toilets</th>\n",
       "      <th>Suites</th>\n",
       "      <th>Parking</th>\n",
       "      <th>Elevator</th>\n",
       "      <th>Furnished</th>\n",
       "      <th>Swimming Pool</th>\n",
       "      <th>Latitude</th>\n",
       "      <th>...</th>\n",
       "      <th>Vila Jacuí/São Paulo</th>\n",
       "      <th>Vila Leopoldina/São Paulo</th>\n",
       "      <th>Vila Madalena/São Paulo</th>\n",
       "      <th>Vila Maria/São Paulo</th>\n",
       "      <th>Vila Mariana/São Paulo</th>\n",
       "      <th>Vila Matilde/São Paulo</th>\n",
       "      <th>Vila Olimpia/São Paulo</th>\n",
       "      <th>Vila Prudente/São Paulo</th>\n",
       "      <th>Vila Sônia/São Paulo</th>\n",
       "      <th>Água Rasa/São Paulo</th>\n",
       "    </tr>\n",
       "  </thead>\n",
       "  <tbody>\n",
       "    <tr>\n",
       "      <th>0</th>\n",
       "      <td>220</td>\n",
       "      <td>47</td>\n",
       "      <td>2</td>\n",
       "      <td>2</td>\n",
       "      <td>1</td>\n",
       "      <td>1</td>\n",
       "      <td>0</td>\n",
       "      <td>0</td>\n",
       "      <td>0</td>\n",
       "      <td>-23.543138</td>\n",
       "      <td>...</td>\n",
       "      <td>0</td>\n",
       "      <td>0</td>\n",
       "      <td>0</td>\n",
       "      <td>0</td>\n",
       "      <td>0</td>\n",
       "      <td>0</td>\n",
       "      <td>0</td>\n",
       "      <td>0</td>\n",
       "      <td>0</td>\n",
       "      <td>0</td>\n",
       "    </tr>\n",
       "    <tr>\n",
       "      <th>1</th>\n",
       "      <td>148</td>\n",
       "      <td>45</td>\n",
       "      <td>2</td>\n",
       "      <td>2</td>\n",
       "      <td>1</td>\n",
       "      <td>1</td>\n",
       "      <td>0</td>\n",
       "      <td>0</td>\n",
       "      <td>0</td>\n",
       "      <td>-23.550239</td>\n",
       "      <td>...</td>\n",
       "      <td>0</td>\n",
       "      <td>0</td>\n",
       "      <td>0</td>\n",
       "      <td>0</td>\n",
       "      <td>0</td>\n",
       "      <td>0</td>\n",
       "      <td>0</td>\n",
       "      <td>0</td>\n",
       "      <td>0</td>\n",
       "      <td>0</td>\n",
       "    </tr>\n",
       "    <tr>\n",
       "      <th>2</th>\n",
       "      <td>100</td>\n",
       "      <td>48</td>\n",
       "      <td>2</td>\n",
       "      <td>2</td>\n",
       "      <td>1</td>\n",
       "      <td>1</td>\n",
       "      <td>0</td>\n",
       "      <td>0</td>\n",
       "      <td>0</td>\n",
       "      <td>-23.542818</td>\n",
       "      <td>...</td>\n",
       "      <td>0</td>\n",
       "      <td>0</td>\n",
       "      <td>0</td>\n",
       "      <td>0</td>\n",
       "      <td>0</td>\n",
       "      <td>0</td>\n",
       "      <td>0</td>\n",
       "      <td>0</td>\n",
       "      <td>0</td>\n",
       "      <td>0</td>\n",
       "    </tr>\n",
       "    <tr>\n",
       "      <th>3</th>\n",
       "      <td>200</td>\n",
       "      <td>48</td>\n",
       "      <td>2</td>\n",
       "      <td>2</td>\n",
       "      <td>1</td>\n",
       "      <td>1</td>\n",
       "      <td>0</td>\n",
       "      <td>0</td>\n",
       "      <td>0</td>\n",
       "      <td>-23.547171</td>\n",
       "      <td>...</td>\n",
       "      <td>0</td>\n",
       "      <td>0</td>\n",
       "      <td>0</td>\n",
       "      <td>0</td>\n",
       "      <td>0</td>\n",
       "      <td>0</td>\n",
       "      <td>0</td>\n",
       "      <td>0</td>\n",
       "      <td>0</td>\n",
       "      <td>0</td>\n",
       "    </tr>\n",
       "    <tr>\n",
       "      <th>4</th>\n",
       "      <td>410</td>\n",
       "      <td>55</td>\n",
       "      <td>2</td>\n",
       "      <td>2</td>\n",
       "      <td>1</td>\n",
       "      <td>1</td>\n",
       "      <td>1</td>\n",
       "      <td>0</td>\n",
       "      <td>0</td>\n",
       "      <td>-23.525025</td>\n",
       "      <td>...</td>\n",
       "      <td>0</td>\n",
       "      <td>0</td>\n",
       "      <td>0</td>\n",
       "      <td>0</td>\n",
       "      <td>0</td>\n",
       "      <td>0</td>\n",
       "      <td>0</td>\n",
       "      <td>0</td>\n",
       "      <td>0</td>\n",
       "      <td>0</td>\n",
       "    </tr>\n",
       "  </tbody>\n",
       "</table>\n",
       "<p>5 rows × 105 columns</p>\n",
       "</div>"
      ],
      "text/plain": [
       "   Condo  Size  Rooms  Toilets  Suites  Parking  Elevator  Furnished  \\\n",
       "0    220    47      2        2       1        1         0          0   \n",
       "1    148    45      2        2       1        1         0          0   \n",
       "2    100    48      2        2       1        1         0          0   \n",
       "3    200    48      2        2       1        1         0          0   \n",
       "4    410    55      2        2       1        1         1          0   \n",
       "\n",
       "   Swimming Pool   Latitude  ...  Vila Jacuí/São Paulo  \\\n",
       "0              0 -23.543138  ...                     0   \n",
       "1              0 -23.550239  ...                     0   \n",
       "2              0 -23.542818  ...                     0   \n",
       "3              0 -23.547171  ...                     0   \n",
       "4              0 -23.525025  ...                     0   \n",
       "\n",
       "   Vila Leopoldina/São Paulo  Vila Madalena/São Paulo  Vila Maria/São Paulo  \\\n",
       "0                          0                        0                     0   \n",
       "1                          0                        0                     0   \n",
       "2                          0                        0                     0   \n",
       "3                          0                        0                     0   \n",
       "4                          0                        0                     0   \n",
       "\n",
       "   Vila Mariana/São Paulo  Vila Matilde/São Paulo  Vila Olimpia/São Paulo  \\\n",
       "0                       0                       0                       0   \n",
       "1                       0                       0                       0   \n",
       "2                       0                       0                       0   \n",
       "3                       0                       0                       0   \n",
       "4                       0                       0                       0   \n",
       "\n",
       "   Vila Prudente/São Paulo  Vila Sônia/São Paulo  Água Rasa/São Paulo  \n",
       "0                        0                     0                    0  \n",
       "1                        0                     0                    0  \n",
       "2                        0                     0                    0  \n",
       "3                        0                     0                    0  \n",
       "4                        0                     0                    0  \n",
       "\n",
       "[5 rows x 105 columns]"
      ]
     },
     "execution_count": 107,
     "metadata": {},
     "output_type": "execute_result"
    }
   ],
   "source": [
    "X.head()"
   ]
  },
  {
   "cell_type": "code",
   "execution_count": 111,
   "id": "1c697bd1-08d5-45a0-9591-439b779957d1",
   "metadata": {},
   "outputs": [],
   "source": [
    "x_train, x_test, y_train, y_test = train_test_split(X, Y, test_size=0.3)"
   ]
  },
  {
   "cell_type": "markdown",
   "id": "6c9dcea8-b26a-4fef-92dc-bff032f5504f",
   "metadata": {},
   "source": [
    "### Regressão Linear"
   ]
  },
  {
   "cell_type": "code",
   "execution_count": 120,
   "id": "ab14dc73-a418-4579-8c3b-f92d0e8dfb4f",
   "metadata": {},
   "outputs": [
    {
     "data": {
      "text/plain": [
       "LinearRegression()"
      ]
     },
     "execution_count": 120,
     "metadata": {},
     "output_type": "execute_result"
    }
   ],
   "source": [
    "from sklearn.linear_model import LinearRegression\n",
    "\n",
    "lin_reg = LinearRegression()\n",
    "lin_reg.fit(x_train, y_train)"
   ]
  },
  {
   "cell_type": "code",
   "execution_count": 124,
   "id": "8c27e337-14e1-495a-8558-fda83f125a0d",
   "metadata": {},
   "outputs": [
    {
     "name": "stdout",
     "output_type": "stream",
     "text": [
      "Predictions: [ 855.16235352  786.16540527  869.20892334  882.19250488 1082.5246582 ]\n",
      "Labels: [930, 1000, 1000, 1000, 1300]\n"
     ]
    }
   ],
   "source": [
    "some_data = X.iloc[:5]\n",
    "some_labels = Y.iloc[:5]\n",
    "\n",
    "print(\"Predictions:\", lin_reg.predict(some_data))\n",
    "print(\"Labels:\", list(some_labels))"
   ]
  },
  {
   "cell_type": "code",
   "execution_count": 134,
   "id": "22edc89b-9aa1-4d37-9b30-ed0d1a840c17",
   "metadata": {},
   "outputs": [
    {
     "data": {
      "text/plain": [
       "1918.354128344279"
      ]
     },
     "execution_count": 134,
     "metadata": {},
     "output_type": "execute_result"
    }
   ],
   "source": [
    "from sklearn.metrics import mean_squared_error\n",
    "\n",
    "preds = lin_reg.predict(x_train)\n",
    "lin_mse = mean_squared_error(y_train, preds)\n",
    "\n",
    "lin_rmse = np.sqrt(lin_mse)\n",
    "lin_rmse"
   ]
  },
  {
   "cell_type": "markdown",
   "id": "82d44441-b587-42ff-b3dd-be553c5e19a5",
   "metadata": {},
   "source": [
    "### Decision Tree Regressor"
   ]
  },
  {
   "cell_type": "code",
   "execution_count": 135,
   "id": "87768880-cb72-47c6-8036-ee723cce1157",
   "metadata": {},
   "outputs": [
    {
     "data": {
      "text/plain": [
       "DecisionTreeRegressor()"
      ]
     },
     "execution_count": 135,
     "metadata": {},
     "output_type": "execute_result"
    }
   ],
   "source": [
    "from sklearn.tree import DecisionTreeRegressor\n",
    "\n",
    "tree_reg = DecisionTreeRegressor()\n",
    "tree_reg.fit(x_train, y_train)"
   ]
  },
  {
   "cell_type": "code",
   "execution_count": 136,
   "id": "c537ca03-568d-4d00-b583-0703602680d7",
   "metadata": {},
   "outputs": [
    {
     "data": {
      "text/plain": [
       "38.92474700453177"
      ]
     },
     "execution_count": 136,
     "metadata": {},
     "output_type": "execute_result"
    }
   ],
   "source": [
    "preds = tree_reg.predict(x_train)\n",
    "tree_mse = mean_squared_error(y_train, preds)\n",
    "\n",
    "tree_rmse = np.sqrt(tree_mse)\n",
    "tree_rmse"
   ]
  },
  {
   "cell_type": "markdown",
   "id": "71ea0176-fc32-4b0f-b244-8bd236cad7e9",
   "metadata": {},
   "source": [
    "### Avaliação mais precisa usando Cross Validation"
   ]
  },
  {
   "cell_type": "code",
   "execution_count": 162,
   "id": "b9aa88dd-39c6-49b2-a71c-768e5d2b4f0c",
   "metadata": {},
   "outputs": [
    {
     "name": "stdout",
     "output_type": "stream",
     "text": [
      "Scores: [2667.5411216  1810.16365031 2043.63311616 1692.20676008 1743.64405373\n",
      " 1635.31720021 1963.29335835 1394.40779174 1610.39752897 1367.68163558]\n",
      "Mean: 1792.8286216721567\n",
      "Standard deviation: 356.0207200978578\n"
     ]
    }
   ],
   "source": [
    "from sklearn.model_selection import cross_val_score\n",
    "\n",
    "scores = cross_val_score(tree_reg, x_train, y_train,\n",
    "                         scoring=\"neg_mean_squared_error\", cv=10)\n",
    "tree_rmse_scores = np.sqrt(-scores)\n",
    "                           \n",
    "def display_scores(scores):\n",
    "    print(\"Scores:\", scores)\n",
    "    print(\"Mean:\", scores.mean())\n",
    "    print(\"Standard deviation:\", scores.std())\n",
    "\n",
    "display_scores(tree_rmse_scores)"
   ]
  },
  {
   "cell_type": "code",
   "execution_count": 163,
   "id": "91426a7f-9101-473b-aa8b-2484644956c0",
   "metadata": {},
   "outputs": [
    {
     "name": "stdout",
     "output_type": "stream",
     "text": [
      "Scores: [2792.01814399 2021.78936059 2400.92470536 1566.55581303 2032.44638342\n",
      " 1592.15891994 1804.63258433 1430.29282552 1788.33084391 1777.10545882]\n",
      "Mean: 1920.6255038929455\n",
      "Standard deviation: 392.171710755843\n"
     ]
    }
   ],
   "source": [
    "scores = cross_val_score(lin_reg, x_train, y_train,\n",
    "                         scoring=\"neg_mean_squared_error\", cv=10)\n",
    "lin_rmse_scores = np.sqrt(-scores)\n",
    "                           \n",
    "def display_scores(scores):\n",
    "    print(\"Scores:\", scores)\n",
    "    print(\"Mean:\", scores.mean())\n",
    "    print(\"Standard deviation:\", scores.std())\n",
    "\n",
    "display_scores(lin_rmse_scores)"
   ]
  },
  {
   "cell_type": "markdown",
   "id": "5a03c194-1bea-402e-8c25-09abb4e080dd",
   "metadata": {},
   "source": [
    "### RandomForest Regressor"
   ]
  },
  {
   "cell_type": "code",
   "execution_count": 146,
   "id": "71386268-db14-4c38-89d4-c5f5a399d755",
   "metadata": {},
   "outputs": [
    {
     "data": {
      "text/plain": [
       "RandomForestRegressor()"
      ]
     },
     "execution_count": 146,
     "metadata": {},
     "output_type": "execute_result"
    }
   ],
   "source": [
    "from sklearn.ensemble import RandomForestRegressor\n",
    "\n",
    "rf_reg = RandomForestRegressor()\n",
    "rf_reg.fit(x_train, y_train)"
   ]
  },
  {
   "cell_type": "code",
   "execution_count": 147,
   "id": "ae1011b2-d321-42ec-ab43-f275c9af6417",
   "metadata": {},
   "outputs": [
    {
     "data": {
      "text/plain": [
       "680.2440082878388"
      ]
     },
     "execution_count": 147,
     "metadata": {},
     "output_type": "execute_result"
    }
   ],
   "source": [
    "preds = rf_reg.predict(x_train)\n",
    "rf_mse = mean_squared_error(y_train, preds)\n",
    "\n",
    "rf_rmse = np.sqrt(rf_mse)\n",
    "rf_rmse"
   ]
  },
  {
   "cell_type": "code",
   "execution_count": 148,
   "id": "f20927cd-6c88-4052-9bb0-81283797b81d",
   "metadata": {},
   "outputs": [
    {
     "name": "stdout",
     "output_type": "stream",
     "text": [
      "Scores: [2693.27465555 1803.9991429  2051.42556261 1692.96199659 1709.95275928\n",
      " 1633.15720468 1937.90863202 1259.20085008 1625.74257834 1448.03605146]\n",
      "Mean: 1785.5659433508547\n",
      "Standard deviation: 370.43433109376446\n"
     ]
    }
   ],
   "source": [
    "scores = cross_val_score(rf_reg, x_train, y_train,\n",
    "                         scoring=\"neg_mean_squared_error\", cv=10)\n",
    "rf_rmse_scores = np.sqrt(-scores)\n",
    "                           \n",
    "def display_scores(scores):\n",
    "    print(\"Scores:\", scores)\n",
    "    print(\"Mean:\", scores.mean())\n",
    "    print(\"Standard deviation:\", scores.std())\n",
    "\n",
    "display_scores(rf_rmse_scores)"
   ]
  },
  {
   "cell_type": "markdown",
   "id": "f73c8eb9-9834-436a-a8ba-29fc689f9bfb",
   "metadata": {},
   "source": [
    "## 6. Avaliando seu modelo e otimizando-o"
   ]
  },
  {
   "cell_type": "markdown",
   "id": "1caa15c5-b721-4458-a359-4145443c954e",
   "metadata": {},
   "source": [
    "### Otimizando seu modelo através do GridSearch"
   ]
  },
  {
   "cell_type": "code",
   "execution_count": 155,
   "id": "74c427fe-f8a5-46ce-a1be-53ec61c1739d",
   "metadata": {},
   "outputs": [
    {
     "data": {
      "text/plain": [
       "GridSearchCV(cv=5, estimator=RandomForestRegressor(),\n",
       "             param_grid=[{'max_features': [2, 4, 6, 8],\n",
       "                          'n_estimators': [3, 10, 30]},\n",
       "                         {'bootstrap': [False], 'max_features': [2, 3, 4],\n",
       "                          'n_estimators': [3, 10]}],\n",
       "             return_train_score=True, scoring='neg_mean_squared_error')"
      ]
     },
     "execution_count": 155,
     "metadata": {},
     "output_type": "execute_result"
    }
   ],
   "source": [
    "from sklearn.model_selection import GridSearchCV\n",
    "\n",
    "param_grid = [\n",
    "    {'n_estimators': [3, 10, 30], 'max_features': [2, 4, 6, 8]},\n",
    "    {'bootstrap': [False], 'n_estimators': [3, 10], 'max_features': [2, 3, 4]},\n",
    "  ]\n",
    "\n",
    "forest_reg = RandomForestRegressor()\n",
    "\n",
    "grid_search = GridSearchCV(forest_reg, param_grid, cv=5, \n",
    "                           scoring='neg_mean_squared_error',\n",
    "                           return_train_score=True)\n",
    "\n",
    "grid_search.fit(x_train, y_train)"
   ]
  },
  {
   "cell_type": "code",
   "execution_count": 156,
   "id": "65c1fb47-2a4f-4024-a171-fb689fb09566",
   "metadata": {},
   "outputs": [
    {
     "data": {
      "text/plain": [
       "{'max_features': 6, 'n_estimators': 30}"
      ]
     },
     "execution_count": 156,
     "metadata": {},
     "output_type": "execute_result"
    }
   ],
   "source": [
    "grid_search.best_params_"
   ]
  },
  {
   "cell_type": "code",
   "execution_count": 157,
   "id": "64af8c48-1099-4225-9fd0-907b37bda1a1",
   "metadata": {},
   "outputs": [
    {
     "data": {
      "text/plain": [
       "RandomForestRegressor(max_features=6, n_estimators=30)"
      ]
     },
     "execution_count": 157,
     "metadata": {},
     "output_type": "execute_result"
    }
   ],
   "source": [
    "grid_search.best_estimator_"
   ]
  },
  {
   "cell_type": "code",
   "execution_count": 158,
   "id": "a9f224fc-93b4-4baf-8a83-f53ef0b4ccab",
   "metadata": {},
   "outputs": [
    {
     "name": "stdout",
     "output_type": "stream",
     "text": [
      "2066.2519781858764 {'max_features': 2, 'n_estimators': 3}\n",
      "1944.9918601616891 {'max_features': 2, 'n_estimators': 10}\n",
      "1859.9025392378746 {'max_features': 2, 'n_estimators': 30}\n",
      "2089.479198697163 {'max_features': 4, 'n_estimators': 3}\n",
      "1958.0781510070492 {'max_features': 4, 'n_estimators': 10}\n",
      "1852.6976964948853 {'max_features': 4, 'n_estimators': 30}\n",
      "2199.1504820566743 {'max_features': 6, 'n_estimators': 3}\n",
      "1898.3599191476223 {'max_features': 6, 'n_estimators': 10}\n",
      "1845.644468125253 {'max_features': 6, 'n_estimators': 30}\n",
      "2101.2185547343997 {'max_features': 8, 'n_estimators': 3}\n",
      "1931.9000845296769 {'max_features': 8, 'n_estimators': 10}\n",
      "1857.509732233663 {'max_features': 8, 'n_estimators': 30}\n",
      "2075.9236316048837 {'bootstrap': False, 'max_features': 2, 'n_estimators': 3}\n",
      "1944.7712200076598 {'bootstrap': False, 'max_features': 2, 'n_estimators': 10}\n",
      "2136.1177940274924 {'bootstrap': False, 'max_features': 3, 'n_estimators': 3}\n",
      "1910.5513347270035 {'bootstrap': False, 'max_features': 3, 'n_estimators': 10}\n",
      "2174.848865202921 {'bootstrap': False, 'max_features': 4, 'n_estimators': 3}\n",
      "1925.4883386256226 {'bootstrap': False, 'max_features': 4, 'n_estimators': 10}\n"
     ]
    }
   ],
   "source": [
    "cvres = grid_search.cv_results_\n",
    "for mean_score, params in zip(cvres[\"mean_test_score\"], cvres[\"params\"]):\n",
    "    print(np.sqrt(-mean_score), params)"
   ]
  },
  {
   "cell_type": "markdown",
   "id": "d98f52f5-5b41-4130-bf4c-4c3637075b84",
   "metadata": {},
   "source": [
    "### Avaliando seu modelo em dados de teste"
   ]
  },
  {
   "cell_type": "code",
   "execution_count": 160,
   "id": "192bf5b8-a656-49aa-8f62-1dc3b30d4bd4",
   "metadata": {},
   "outputs": [
    {
     "name": "stdout",
     "output_type": "stream",
     "text": [
      "1806.508973013021\n"
     ]
    }
   ],
   "source": [
    "final_model = grid_search.best_estimator_\n",
    "final_predictions = final_model.predict(x_test)\n",
    "\n",
    "final_mse = mean_squared_error(y_test, final_predictions)\n",
    "final_rmse = np.sqrt(final_mse)\n",
    "\n",
    "print(final_rmse)"
   ]
  },
  {
   "cell_type": "code",
   "execution_count": null,
   "id": "efdfa69c-683d-4d31-b3af-5cbca6641bc7",
   "metadata": {},
   "outputs": [],
   "source": []
  }
 ],
 "metadata": {
  "kernelspec": {
   "display_name": "Python 3 (ipykernel)",
   "language": "python",
   "name": "python3"
  },
  "language_info": {
   "codemirror_mode": {
    "name": "ipython",
    "version": 3
   },
   "file_extension": ".py",
   "mimetype": "text/x-python",
   "name": "python",
   "nbconvert_exporter": "python",
   "pygments_lexer": "ipython3",
   "version": "3.8.9"
  }
 },
 "nbformat": 4,
 "nbformat_minor": 5
}
